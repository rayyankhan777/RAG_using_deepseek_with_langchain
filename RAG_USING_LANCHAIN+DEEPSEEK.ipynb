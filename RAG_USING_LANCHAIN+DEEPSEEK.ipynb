{
  "nbformat": 4,
  "nbformat_minor": 0,
  "metadata": {
    "colab": {
      "provenance": []
    },
    "kernelspec": {
      "name": "python3",
      "display_name": "Python 3"
    },
    "language_info": {
      "name": "python"
    }
  },
  "cells": [
    {
      "cell_type": "code",
      "execution_count": null,
      "metadata": {
        "id": "tcueLezc1-wJ"
      },
      "outputs": [],
      "source": [
        "!pip install pdfplumber langchain langchain_community langchain_core langchain_experimental faiss-cpu"
      ]
    },
    {
      "cell_type": "code",
      "source": [
        "from langchain_community.document_loaders import PDFPlumberLoader\n",
        "from langchain_experimental.text_splitter import SemanticChunker\n",
        "from langchain_community.embeddings import HuggingFaceBgeEmbeddings\n",
        "from langchain_community.vectorstores import FAISS\n",
        "from langchain.prompts import PromptTemplate\n",
        "from langchain.chains.llm import LLMChain\n",
        "from langchain.chains.combine_documents.stuff import StuffDocumentsChain\n",
        "from langchain.chains import RetrievalQA"
      ],
      "metadata": {
        "id": "Lm-qjwaN2WW8"
      },
      "execution_count": 3,
      "outputs": []
    },
    {
      "cell_type": "code",
      "source": [
        "loader = PDFPlumberLoader(\"/content/Neural_Network_removed.pdf\")\n",
        "docs = loader.load()"
      ],
      "metadata": {
        "id": "Q1U4ut6V4Eyo"
      },
      "execution_count": 9,
      "outputs": []
    },
    {
      "cell_type": "code",
      "source": [
        "docs"
      ],
      "metadata": {
        "colab": {
          "base_uri": "https://localhost:8080/"
        },
        "id": "T_p-KaM-5t9A",
        "outputId": "49bfc23c-371c-4d87-b873-cb59a564b5fa"
      },
      "execution_count": 10,
      "outputs": [
        {
          "output_type": "execute_result",
          "data": {
            "text/plain": [
              "[Document(metadata={'source': '/content/Neural_Network_removed.pdf', 'file_path': '/content/Neural_Network_removed.pdf', 'page': 0, 'total_pages': 1, 'Producer': 'iLovePDF', 'ModDate': 'D:20250722173706Z'}, page_content='Speech and Language Processing. Daniel Jurafsky & James H. Martin. Copyright © 2024. All\\nrights reserved. Draft of January 12, 2025.\\nCHAPTER\\n7 Neural Networks\\n“[M]achinesofthischaractercanbehaveinaverycomplicatedmannerwhen\\nthenumberofunitsislarge.”\\nAlanTuring(1948)“IntelligentMachines”,page6\\nNeural networks are a fundamental computational tool for language process-\\ning, and a very old one. They are called neural because their origins lie in the\\nMcCulloch-Pitts neuron (McCulloch and Pitts, 1943), a simplified model of the\\nbiologicalneuronasakindofcomputingelementthatcouldbedescribedinterms\\nofpropositionallogic. Butthemodernuseinlanguageprocessingnolongerdraws\\nontheseearlybiologicalinspirations.\\nInstead, a modern neural network is a network of small computing units, each\\nofwhichtakesavectorofinputvaluesandproducesasingleoutputvalue. Inthis\\nchapter we introduce the neural net applied to classification. The architecture we\\nfeedforward introduceiscalledafeedforwardnetworkbecausethecomputationproceedsiter-\\natively from one layer of units to the next. The use of modern neural nets is often\\ndeeplearning calleddeeplearning,becausemodernnetworksareoftendeep(havemanylayers).\\nNeuralnetworkssharemuchofthesamemathematicsaslogisticregression.But\\nneuralnetworksareamorepowerfulclassifierthanlogisticregression,andindeeda\\nminimalneuralnetwork(technicallyonewithasingle‘hiddenlayer’)canbeshown\\ntolearnanyfunction.\\nNeuralnetclassifiersaredifferentfromlogisticregressioninanotherway. With\\nlogistic regression, we applied the regression classifier to many different tasks by\\ndevelopingmanyrichkindsoffeaturetemplatesbasedondomainknowledge.When\\nworkingwithneuralnetworks,itismorecommontoavoidmostusesofrichhand-\\nderived features, instead building neural networks that take raw words as inputs\\nand learn to induce features as part of the process of learning to classify. We saw\\nexamplesofthiskindofrepresentationlearningforembeddingsinChapter6. Nets\\nthat are very deep are particularly good at representation learning. For that reason\\ndeepneuralnetsaretherighttoolfortasksthatoffersufficientdatatolearnfeatures\\nautomatically.\\nInthischapterwe’llintroducefeedforwardnetworksasclassifiers,andalsoap-\\nply them to the simple task of language modeling: assigning probabilities to word\\nsequencesandpredictingupcomingwords. Insubsequentchapterswe’llintroduce\\nmany other aspects of neural models, such as recurrent neural networks (Chap-\\nter8),theTransformer(Chapter9),andmaskedlanguagemodeling(Chapter11).\\n')]"
            ]
          },
          "metadata": {},
          "execution_count": 10
        }
      ]
    },
    {
      "cell_type": "code",
      "source": [
        "text_splitter = SemanticChunker(HuggingFaceBgeEmbeddings())\n",
        "documents = text_splitter.split_documents(docs)"
      ],
      "metadata": {
        "colab": {
          "base_uri": "https://localhost:8080/"
        },
        "id": "T1jZTZ6h50TU",
        "outputId": "62403a26-7c0f-4023-8bdb-b148b76401ab"
      },
      "execution_count": 11,
      "outputs": [
        {
          "output_type": "stream",
          "name": "stderr",
          "text": [
            "/tmp/ipython-input-11-3180736174.py:1: LangChainDeprecationWarning: Default values for HuggingFaceBgeEmbeddings.model_name were deprecated in LangChain 0.2.5 and will be removed in 0.4.0. Explicitly pass a model_name to the HuggingFaceBgeEmbeddings constructor instead.\n",
            "  text_splitter = SemanticChunker(HuggingFaceBgeEmbeddings())\n"
          ]
        }
      ]
    },
    {
      "cell_type": "code",
      "source": [
        "embedder = HuggingFaceBgeEmbeddings()"
      ],
      "metadata": {
        "colab": {
          "base_uri": "https://localhost:8080/"
        },
        "id": "O-E1ZGpB6NDt",
        "outputId": "559193f8-06b2-490d-be40-8310bd506e8e"
      },
      "execution_count": 12,
      "outputs": [
        {
          "output_type": "stream",
          "name": "stderr",
          "text": [
            "/tmp/ipython-input-12-2364638201.py:1: LangChainDeprecationWarning: Default values for HuggingFaceBgeEmbeddings.model_name were deprecated in LangChain 0.2.5 and will be removed in 0.4.0. Explicitly pass a model_name to the HuggingFaceBgeEmbeddings constructor instead.\n",
            "  embedder = HuggingFaceBgeEmbeddings()\n"
          ]
        }
      ]
    },
    {
      "cell_type": "code",
      "source": [
        "vector = FAISS.from_documents(documents,embedder)\n",
        "retriever = vector.as_retriever(search_type=\"similarity\", search_kwargs={\"k\": 3})"
      ],
      "metadata": {
        "id": "R6Xb3yd7GnzL"
      },
      "execution_count": 13,
      "outputs": []
    },
    {
      "cell_type": "code",
      "source": [
        "!pip install langchain_groq"
      ],
      "metadata": {
        "colab": {
          "base_uri": "https://localhost:8080/"
        },
        "id": "BcIe5TERHz4o",
        "outputId": "63f6e2c8-0d2c-4186-ea97-6f143a7a75d9"
      },
      "execution_count": 14,
      "outputs": [
        {
          "output_type": "stream",
          "name": "stdout",
          "text": [
            "Collecting langchain_groq\n",
            "  Downloading langchain_groq-0.3.6-py3-none-any.whl.metadata (2.6 kB)\n",
            "Requirement already satisfied: langchain-core<1.0.0,>=0.3.68 in /usr/local/lib/python3.11/dist-packages (from langchain_groq) (0.3.69)\n",
            "Collecting groq<1,>=0.29.0 (from langchain_groq)\n",
            "  Downloading groq-0.30.0-py3-none-any.whl.metadata (16 kB)\n",
            "Requirement already satisfied: anyio<5,>=3.5.0 in /usr/local/lib/python3.11/dist-packages (from groq<1,>=0.29.0->langchain_groq) (4.9.0)\n",
            "Requirement already satisfied: distro<2,>=1.7.0 in /usr/local/lib/python3.11/dist-packages (from groq<1,>=0.29.0->langchain_groq) (1.9.0)\n",
            "Requirement already satisfied: httpx<1,>=0.23.0 in /usr/local/lib/python3.11/dist-packages (from groq<1,>=0.29.0->langchain_groq) (0.28.1)\n",
            "Requirement already satisfied: pydantic<3,>=1.9.0 in /usr/local/lib/python3.11/dist-packages (from groq<1,>=0.29.0->langchain_groq) (2.11.7)\n",
            "Requirement already satisfied: sniffio in /usr/local/lib/python3.11/dist-packages (from groq<1,>=0.29.0->langchain_groq) (1.3.1)\n",
            "Requirement already satisfied: typing-extensions<5,>=4.10 in /usr/local/lib/python3.11/dist-packages (from groq<1,>=0.29.0->langchain_groq) (4.14.1)\n",
            "Requirement already satisfied: langsmith>=0.3.45 in /usr/local/lib/python3.11/dist-packages (from langchain-core<1.0.0,>=0.3.68->langchain_groq) (0.4.7)\n",
            "Requirement already satisfied: tenacity!=8.4.0,<10.0.0,>=8.1.0 in /usr/local/lib/python3.11/dist-packages (from langchain-core<1.0.0,>=0.3.68->langchain_groq) (8.5.0)\n",
            "Requirement already satisfied: jsonpatch<2.0,>=1.33 in /usr/local/lib/python3.11/dist-packages (from langchain-core<1.0.0,>=0.3.68->langchain_groq) (1.33)\n",
            "Requirement already satisfied: PyYAML>=5.3 in /usr/local/lib/python3.11/dist-packages (from langchain-core<1.0.0,>=0.3.68->langchain_groq) (6.0.2)\n",
            "Requirement already satisfied: packaging>=23.2 in /usr/local/lib/python3.11/dist-packages (from langchain-core<1.0.0,>=0.3.68->langchain_groq) (25.0)\n",
            "Requirement already satisfied: idna>=2.8 in /usr/local/lib/python3.11/dist-packages (from anyio<5,>=3.5.0->groq<1,>=0.29.0->langchain_groq) (3.10)\n",
            "Requirement already satisfied: certifi in /usr/local/lib/python3.11/dist-packages (from httpx<1,>=0.23.0->groq<1,>=0.29.0->langchain_groq) (2025.7.14)\n",
            "Requirement already satisfied: httpcore==1.* in /usr/local/lib/python3.11/dist-packages (from httpx<1,>=0.23.0->groq<1,>=0.29.0->langchain_groq) (1.0.9)\n",
            "Requirement already satisfied: h11>=0.16 in /usr/local/lib/python3.11/dist-packages (from httpcore==1.*->httpx<1,>=0.23.0->groq<1,>=0.29.0->langchain_groq) (0.16.0)\n",
            "Requirement already satisfied: jsonpointer>=1.9 in /usr/local/lib/python3.11/dist-packages (from jsonpatch<2.0,>=1.33->langchain-core<1.0.0,>=0.3.68->langchain_groq) (3.0.0)\n",
            "Requirement already satisfied: orjson<4.0.0,>=3.9.14 in /usr/local/lib/python3.11/dist-packages (from langsmith>=0.3.45->langchain-core<1.0.0,>=0.3.68->langchain_groq) (3.11.0)\n",
            "Requirement already satisfied: requests<3,>=2 in /usr/local/lib/python3.11/dist-packages (from langsmith>=0.3.45->langchain-core<1.0.0,>=0.3.68->langchain_groq) (2.32.3)\n",
            "Requirement already satisfied: requests-toolbelt<2.0.0,>=1.0.0 in /usr/local/lib/python3.11/dist-packages (from langsmith>=0.3.45->langchain-core<1.0.0,>=0.3.68->langchain_groq) (1.0.0)\n",
            "Requirement already satisfied: zstandard<0.24.0,>=0.23.0 in /usr/local/lib/python3.11/dist-packages (from langsmith>=0.3.45->langchain-core<1.0.0,>=0.3.68->langchain_groq) (0.23.0)\n",
            "Requirement already satisfied: annotated-types>=0.6.0 in /usr/local/lib/python3.11/dist-packages (from pydantic<3,>=1.9.0->groq<1,>=0.29.0->langchain_groq) (0.7.0)\n",
            "Requirement already satisfied: pydantic-core==2.33.2 in /usr/local/lib/python3.11/dist-packages (from pydantic<3,>=1.9.0->groq<1,>=0.29.0->langchain_groq) (2.33.2)\n",
            "Requirement already satisfied: typing-inspection>=0.4.0 in /usr/local/lib/python3.11/dist-packages (from pydantic<3,>=1.9.0->groq<1,>=0.29.0->langchain_groq) (0.4.1)\n",
            "Requirement already satisfied: charset-normalizer<4,>=2 in /usr/local/lib/python3.11/dist-packages (from requests<3,>=2->langsmith>=0.3.45->langchain-core<1.0.0,>=0.3.68->langchain_groq) (3.4.2)\n",
            "Requirement already satisfied: urllib3<3,>=1.21.1 in /usr/local/lib/python3.11/dist-packages (from requests<3,>=2->langsmith>=0.3.45->langchain-core<1.0.0,>=0.3.68->langchain_groq) (2.5.0)\n",
            "Downloading langchain_groq-0.3.6-py3-none-any.whl (16 kB)\n",
            "Downloading groq-0.30.0-py3-none-any.whl (131 kB)\n",
            "\u001b[2K   \u001b[90m━━━━━━━━━━━━━━━━━━━━━━━━━━━━━━━━━━━━━━━━\u001b[0m \u001b[32m131.1/131.1 kB\u001b[0m \u001b[31m4.3 MB/s\u001b[0m eta \u001b[36m0:00:00\u001b[0m\n",
            "\u001b[?25hInstalling collected packages: groq, langchain_groq\n",
            "Successfully installed groq-0.30.0 langchain_groq-0.3.6\n"
          ]
        }
      ]
    },
    {
      "cell_type": "code",
      "source": [
        "from langchain_groq import ChatGroq\n",
        "\n",
        "llm = ChatGroq(\n",
        "    groq_api_key = \"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\",\n",
        "    temperature=0,\n",
        "    model_name =\"deepseek-r1-distill-llama-70b\"\n",
        "\n",
        ")"
      ],
      "metadata": {
        "id": "WHPNKwp2H4x9"
      },
      "execution_count": 15,
      "outputs": []
    },
    {
      "cell_type": "code",
      "source": [
        "llm.invoke(\"what is java\")"
      ],
      "metadata": {
        "colab": {
          "base_uri": "https://localhost:8080/"
        },
        "id": "WcWmcg9lKIFJ",
        "outputId": "ae7ffa4a-efbc-49db-edb9-849312ddd2e5"
      },
      "execution_count": 16,
      "outputs": [
        {
          "output_type": "execute_result",
          "data": {
            "text/plain": [
              "AIMessage(content='<think>\\n\\n</think>\\n\\nJava is a high-level, object-oriented programming language developed by Sun Microsystems (now owned by Oracle Corporation). It was created by James Gosling and first released in 1995. Java is known for its platform independence, meaning that programs written in Java can run on any device that has a Java Virtual Machine (JVM) installed, following the \"write once, run anywhere\" principle.\\n\\n### Key Features of Java:\\n1. **Object-Oriented**: Java follows the principles of object-oriented programming (OOP), such as encapsulation, inheritance, and polymorphism.\\n2. **Platform Independent**: Java code is compiled into an intermediate format called bytecode, which runs on the JVM. This allows Java programs to be executed on any platform that has a JVM.\\n3. **Simple and Familiar Syntax**: Java\\'s syntax is based on C++ but is simpler and easier to learn, with fewer low-level complexities.\\n4. **Robust Security**: Java has built-in security features, making it a popular choice for developing secure applications.\\n5. **Large Standard Library**: Java has a comprehensive standard library that includes libraries for networking, file handling, GUI creation, and more.\\n6. **Multithreaded**: Java supports multithreading, which allows concurrent execution of two or more threads, improving the efficiency of applications.\\n7. **Distributed**: Java provides built-in support for distributed computing, making it easy to write programs that can run on multiple computers in a network.\\n\\n### Common Uses of Java:\\n- **Android App Development**: Java is widely used for developing Android applications.\\n- **Web Applications**: Java is used in web development, especially with frameworks like Spring and Hibernate.\\n- **Enterprise Software**: Java is a popular choice for developing large-scale enterprise applications.\\n- **Desktop Applications**: Java can be used to create desktop applications, such as media players, IDEs, and more.\\n- **Games**: Java is used in game development, especially with libraries like libGDX.\\n- **Scientific Applications**: Java is used in scientific computing for its platform independence and robustness.\\n\\n### Java Editions:\\n- **Java Standard Edition (SE)**: For developing standard Java applications.\\n- **Java Enterprise Edition (EE)**: For developing enterprise-level applications, including web services and enterprise software.\\n- **Java Micro Edition (ME)**: For developing applications for mobile devices and embedded systems.\\n\\n### Java Development Kit (JDK):\\nThe JDK is a software development kit that includes the Java Runtime Environment (JRE), a compiler, and other tools needed for developing Java applications.\\n\\n### Java Runtime Environment (JRE):\\nThe JRE includes the JVM and the Java class libraries, which are necessary for running Java programs but not for developing them.\\n\\nJava is one of the most popular programming languages in the world, widely used in various industries and applications. Its versatility, platform independence, and robust security features make it a favorite among developers.', additional_kwargs={}, response_metadata={'token_usage': {'completion_tokens': 593, 'prompt_tokens': 6, 'total_tokens': 599, 'completion_time': 2.325040111, 'prompt_time': 0.000113869, 'queue_time': 0.20233830800000002, 'total_time': 2.32515398}, 'model_name': 'deepseek-r1-distill-llama-70b', 'system_fingerprint': 'fp_76307ac09b', 'service_tier': 'on_demand', 'finish_reason': 'stop', 'logprobs': None}, id='run--909a8273-9441-4ecb-8aac-165f41088327-0', usage_metadata={'input_tokens': 6, 'output_tokens': 593, 'total_tokens': 599})"
            ]
          },
          "metadata": {},
          "execution_count": 16
        }
      ]
    },
    {
      "cell_type": "code",
      "source": [
        "prompt =\"\"\"\"\n",
        "1.Use the following piece of context to answer the question at the end.\n",
        "2.If you don't know the answer, just say that you don't know,\"I don't know\" but donot makeup an answer on your own.\\n.\n",
        "3.Keep the answer crisp and limited to 3, 4 sentenses\n",
        "\n",
        "Context: {context}\n",
        "Question: {question}\n",
        "\"\"\"\n",
        "QA_CHAIN_PROMPT = PromptTemplate.from_template(prompt)"
      ],
      "metadata": {
        "id": "9p8Ivd2qKPP4"
      },
      "execution_count": 17,
      "outputs": []
    },
    {
      "cell_type": "code",
      "source": [
        "llm_chain = LLMChain(\n",
        "    llm=llm,\n",
        "    prompt=QA_CHAIN_PROMPT,\n",
        "    callbacks= None,\n",
        "    verbose = True\n",
        "    )"
      ],
      "metadata": {
        "colab": {
          "base_uri": "https://localhost:8080/"
        },
        "id": "k3ahOgRZMVlt",
        "outputId": "b7428dec-c6aa-4bf8-d209-c68366408824"
      },
      "execution_count": 18,
      "outputs": [
        {
          "output_type": "stream",
          "name": "stderr",
          "text": [
            "/tmp/ipython-input-18-754454184.py:1: LangChainDeprecationWarning: The class `LLMChain` was deprecated in LangChain 0.1.17 and will be removed in 1.0. Use :meth:`~RunnableSequence, e.g., `prompt | llm`` instead.\n",
            "  llm_chain = LLMChain(\n"
          ]
        }
      ]
    },
    {
      "cell_type": "code",
      "source": [
        "document_prompt = PromptTemplate(\n",
        "    input_variables=[\"page_content\",\"soource\"],\n",
        "    template=\"Context :\\ncontent:{page_content}\\nsource;{source}\",\n",
        ")\n"
      ],
      "metadata": {
        "id": "Y-1kSIuZNpBK"
      },
      "execution_count": 19,
      "outputs": []
    },
    {
      "cell_type": "code",
      "source": [
        "combine_documents_chain = StuffDocumentsChain(\n",
        "    llm_chain=llm_chain,\n",
        "\n",
        "    document_variable_name=\"context\",\n",
        "    document_prompt=document_prompt,\n",
        "    callbacks=None,\n",
        "\n",
        ")\n"
      ],
      "metadata": {
        "id": "6das-KgkL2cn"
      },
      "execution_count": 21,
      "outputs": []
    },
    {
      "cell_type": "code",
      "source": [
        "qa = RetrievalQA(\n",
        "    combine_documents_chain=combine_documents_chain,\n",
        "    verbose = True,\n",
        "    retriever=retriever,\n",
        "    return_source_documents = True)"
      ],
      "metadata": {
        "colab": {
          "base_uri": "https://localhost:8080/"
        },
        "id": "kNj4USqMOgFO",
        "outputId": "b11bcb2a-c3e1-4a3e-ec0d-3d416c8f75c4"
      },
      "execution_count": 22,
      "outputs": [
        {
          "output_type": "stream",
          "name": "stderr",
          "text": [
            "/tmp/ipython-input-22-1959012833.py:1: LangChainDeprecationWarning: This class is deprecated. Use the `create_retrieval_chain` constructor instead. See migration guide here: https://python.langchain.com/docs/versions/migrating_chains/retrieval_qa/\n",
            "  qa = RetrievalQA(\n"
          ]
        }
      ]
    },
    {
      "cell_type": "code",
      "source": [
        "user_input = \"what is deep learning ?\"\n",
        "response=qa({\"query\": user_input})[\"result\"]"
      ],
      "metadata": {
        "colab": {
          "base_uri": "https://localhost:8080/"
        },
        "id": "l83XTDI0PGAK",
        "outputId": "c4bfb054-01bf-438b-ea3a-87d7915955ba"
      },
      "execution_count": 26,
      "outputs": [
        {
          "output_type": "stream",
          "name": "stdout",
          "text": [
            "\n",
            "\n",
            "\u001b[1m> Entering new RetrievalQA chain...\u001b[0m\n",
            "\n",
            "\n",
            "\u001b[1m> Entering new LLMChain chain...\u001b[0m\n",
            "Prompt after formatting:\n",
            "\u001b[32;1m\u001b[1;3m\"\n",
            "1.Use the following piece of context to answer the question at the end. \n",
            "2.If you don't know the answer, just say that you don't know,\"I don't know\" but donot makeup an answer on your own.\n",
            ".\n",
            "3.Keep the answer crisp and limited to 3, 4 sentenses\n",
            "\n",
            "Context: Context :\n",
            "content:Draft of January 12, 2025. CHAPTER\n",
            "7 Neural Networks\n",
            "“[M]achinesofthischaractercanbehaveinaverycomplicatedmannerwhen\n",
            "thenumberofunitsislarge.”\n",
            "AlanTuring(1948)“IntelligentMachines”,page6\n",
            "Neural networks are a fundamental computational tool for language process-\n",
            "ing, and a very old one. They are called neural because their origins lie in the\n",
            "McCulloch-Pitts neuron (McCulloch and Pitts, 1943), a simplified model of the\n",
            "biologicalneuronasakindofcomputingelementthatcouldbedescribedinterms\n",
            "ofpropositionallogic. Butthemodernuseinlanguageprocessingnolongerdraws\n",
            "ontheseearlybiologicalinspirations. Instead, a modern neural network is a network of small computing units, each\n",
            "ofwhichtakesavectorofinputvaluesandproducesasingleoutputvalue. Inthis\n",
            "chapter we introduce the neural net applied to classification. The architecture we\n",
            "feedforward introduceiscalledafeedforwardnetworkbecausethecomputationproceedsiter-\n",
            "atively from one layer of units to the next. The use of modern neural nets is often\n",
            "deeplearning calleddeeplearning,becausemodernnetworksareoftendeep(havemanylayers). Neuralnetworkssharemuchofthesamemathematicsaslogisticregression.But\n",
            "neuralnetworksareamorepowerfulclassifierthanlogisticregression,andindeeda\n",
            "minimalneuralnetwork(technicallyonewithasingle‘hiddenlayer’)canbeshown\n",
            "tolearnanyfunction. Neuralnetclassifiersaredifferentfromlogisticregressioninanotherway. With\n",
            "logistic regression, we applied the regression classifier to many different tasks by\n",
            "developingmanyrichkindsoffeaturetemplatesbasedondomainknowledge.When\n",
            "workingwithneuralnetworks,itismorecommontoavoidmostusesofrichhand-\n",
            "derived features, instead building neural networks that take raw words as inputs\n",
            "and learn to induce features as part of the process of learning to classify. We saw\n",
            "examplesofthiskindofrepresentationlearningforembeddingsinChapter6. Nets\n",
            "that are very deep are particularly good at representation learning. For that reason\n",
            "deepneuralnetsaretherighttoolfortasksthatoffersufficientdatatolearnfeatures\n",
            "automatically. Inthischapterwe’llintroducefeedforwardnetworksasclassifiers,andalsoap-\n",
            "ply them to the simple task of language modeling: assigning probabilities to word\n",
            "sequencesandpredictingupcomingwords. Insubsequentchapterswe’llintroduce\n",
            "many other aspects of neural models, such as recurrent neural networks (Chap-\n",
            "ter8),theTransformer(Chapter9),andmaskedlanguagemodeling(Chapter11). \n",
            "source;/content/Neural_Network_removed.pdf\n",
            "\n",
            "Context :\n",
            "content:Speech and Language Processing. Daniel Jurafsky & James H. Martin. Copyright © 2024. All\n",
            "rights reserved.\n",
            "source;/content/Neural_Network_removed.pdf\n",
            "Question: what is deep learning ?\n",
            "\u001b[0m\n",
            "\n",
            "\u001b[1m> Finished chain.\u001b[0m\n",
            "\n",
            "\u001b[1m> Finished chain.\u001b[0m\n"
          ]
        }
      ]
    },
    {
      "cell_type": "code",
      "source": [
        "response"
      ],
      "metadata": {
        "colab": {
          "base_uri": "https://localhost:8080/",
          "height": 140
        },
        "id": "xf6bMZZsQI91",
        "outputId": "d13334b9-020a-4bc0-87ea-bf583d7c66b7"
      },
      "execution_count": 28,
      "outputs": [
        {
          "output_type": "execute_result",
          "data": {
            "text/plain": [
              "'<think>\\nOkay, so I need to figure out what deep learning is based on the provided context. Let me start by reading through the context carefully. \\n\\nThe context is from a chapter about Neural Networks in a book titled \"Speech and Language Processing\" by Daniel Jurafsky and James H. Martin. It mentions that neural networks are a fundamental tool for language processing and have a long history, dating back to the McCulloch-Pitts neuron model. However, modern neural networks don\\'t rely much on those early biological inspirations anymore.\\n\\nThe chapter introduces feedforward networks, which are called that because computation moves iteratively from one layer to the next. It also states that modern neural networks are often called deep learning because they have many layers, making them \"deep.\" \\n\\nComparing neural networks to logistic regression, the text explains that while both share similar mathematics, neural networks are more powerful. A minimal neural network with a single hidden layer can learn any function, which is a key point. \\n\\nThe context also mentions that neural networks differ from logistic regression in how they handle features. Logistic regression uses many hand-derived features based on domain knowledge, whereas neural networks take raw inputs and learn to induce features automatically during the learning process. This is referred to as representation learning, and deep neural nets are particularly good at this. \\n\\nDeep neural networks are highlighted as the right tool for tasks where there\\'s enough data to learn features automatically. The chapter also touches on language modeling, assigning probabilities to word sequences and predicting upcoming words, which deep learning is well-suited for.\\n\\nSo, putting this together, deep learning is essentially neural networks with many layers, allowing them to automatically learn features from raw data without relying on hand-crafted features. This makes them powerful for tasks with ample data, especially in areas like language processing where representation learning is crucial.\\n</think>\\n\\nDeep learning refers to neural networks with multiple layers, enabling them to automatically learn features from raw data. This approach is powerful for tasks with sufficient data, particularly in language processing, where it excels at representation learning and tasks like language modeling.'"
            ],
            "application/vnd.google.colaboratory.intrinsic+json": {
              "type": "string"
            }
          },
          "metadata": {},
          "execution_count": 28
        }
      ]
    },
    {
      "cell_type": "code",
      "source": [],
      "metadata": {
        "id": "6kmxbAnZQMGW"
      },
      "execution_count": null,
      "outputs": []
    }
  ]
}